{
 "cells": [
  {
   "cell_type": "markdown",
   "id": "8a0ee970-e436-4a30-a5b5-fe8836ab1e75",
   "metadata": {},
   "source": [
    "# Data Science Tools and Ecosystem \n"
   ]
  },
  {
   "cell_type": "markdown",
   "id": "2b47d4e6-9565-4fe1-81d9-c4c760b22583",
   "metadata": {},
   "source": [
    "In this ***notebook***, Data Science Tools and Ecosystem are summarized."
   ]
  },
  {
   "cell_type": "markdown",
   "id": "b7bcbd0c-7397-4a6c-8521-8c29e95dcb4e",
   "metadata": {},
   "source": [
    "**Objectives:**\n",
    "- Explored tools for data science\n",
    "- Establishing data mining goals\n",
    "- Show task categories"
   ]
  },
  {
   "cell_type": "markdown",
   "id": "dd91b451-c384-4e52-b42a-efa8b476edfb",
   "metadata": {},
   "source": [
    "Some of the popular languages that Data Scientists use Rare:\n",
    "1. Python\n",
    "2. R\n",
    "3. Scala\n",
    "4. java\n",
    "5. C++"
   ]
  },
  {
   "cell_type": "markdown",
   "id": "80a3f2e3-2b42-465b-b06a-f0343fbca7f7",
   "metadata": {},
   "source": [
    "Some of the commonly used libraries used by Data Scientists include:\n",
    "- Python\n",
    "    1. Numpy\n",
    "    2. Pandas\n",
    "    3. Matplotlib\n",
    "    4. TensorFlow\n",
    "- R\n",
    "    1. ggplot\n",
    "    2. dplyr\n",
    "    3. stringr\n",
    "    4. caret    \n",
    "- Java\n",
    "    1. Weka\n",
    "    2. Java ML..."
   ]
  },
  {
   "cell_type": "markdown",
   "id": "16375796-b41b-4dd5-bd59-b07cba897052",
   "metadata": {},
   "source": [
    "|Data Science Tools|\n",
    "---\n",
    "|Python|\n",
    "|MySQL|\n",
    "|GitHub|\n",
    "|Jupyter Notebook|"
   ]
  },
  {
   "cell_type": "markdown",
   "id": "e3330e24-423f-41dc-bf1a-b5fac9f143a3",
   "metadata": {},
   "source": [
    "### Below are a few examples of evaluating arithmetic expressions in Python"
   ]
  },
  {
   "cell_type": "code",
   "execution_count": 1,
   "id": "666e7aff-6ae6-48f0-8c90-7eab476676fd",
   "metadata": {
    "tags": []
   },
   "outputs": [
    {
     "data": {
      "text/plain": [
       "17"
      ]
     },
     "execution_count": 1,
     "metadata": {},
     "output_type": "execute_result"
    }
   ],
   "source": [
    "# This a simple arithmetic expression to mutiply then add integers\n",
    "(3*4)+5"
   ]
  },
  {
   "cell_type": "code",
   "execution_count": 2,
   "id": "1547e924-35a5-4f68-b119-fc846b1b4bba",
   "metadata": {
    "tags": []
   },
   "outputs": [
    {
     "data": {
      "text/plain": [
       "3.3333333333333335"
      ]
     },
     "execution_count": 2,
     "metadata": {},
     "output_type": "execute_result"
    }
   ],
   "source": [
    "def Min_to_hours(min):\n",
    "    hours = min/60\n",
    "    return hours\n",
    "#This will convert 200 minutes to hours by diving by 60\n",
    "Min_to_hours(200)\n"
   ]
  },
  {
   "cell_type": "markdown",
   "id": "beec68d3-cf61-48b5-b024-8cbc3c6d2e12",
   "metadata": {},
   "source": [
    "## Author ## \n",
    "Juan David Parra G."
   ]
  }
 ],
 "metadata": {
  "kernelspec": {
   "display_name": "Python",
   "language": "python",
   "name": "conda-env-python-py"
  },
  "language_info": {
   "codemirror_mode": {
    "name": "ipython",
    "version": 3
   },
   "file_extension": ".py",
   "mimetype": "text/x-python",
   "name": "python",
   "nbconvert_exporter": "python",
   "pygments_lexer": "ipython3",
   "version": "3.7.12"
  }
 },
 "nbformat": 4,
 "nbformat_minor": 5
}
